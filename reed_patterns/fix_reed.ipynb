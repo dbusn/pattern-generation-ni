{
 "cells": [
  {
   "cell_type": "markdown",
   "metadata": {},
   "source": [
    "# REED Pattern Flipper🐬🦍"
   ]
  },
  {
   "cell_type": "markdown",
   "metadata": {},
   "source": [
    "### Flipping pets"
   ]
  },
  {
   "cell_type": "code",
   "execution_count": null,
   "metadata": {},
   "outputs": [],
   "source": [
    "import os\n",
    "import json"
   ]
  },
  {
   "cell_type": "code",
   "execution_count": null,
   "metadata": {},
   "outputs": [],
   "source": [
    "row_maping = {\n",
    "    \"1\": \"6\",\n",
    "    \"2\": \"5\",\n",
    "    \"3\": \"4\",\n",
    "    \"4\": \"3\",\n",
    "    \"5\": \"2\",\n",
    "    \"6\": \"1\",\n",
    "}"
   ]
  },
  {
   "cell_type": "markdown",
   "metadata": {},
   "source": [
    "### Flip row coordinate"
   ]
  },
  {
   "cell_type": "code",
   "execution_count": null,
   "metadata": {},
   "outputs": [],
   "source": [
    "def fix_coords(pattern):\n",
    "    for index, iteration in enumerate(pattern[\"pattern\"]):\n",
    "        for row in iteration['iteration']:\n",
    "            print('OLD COORD\\t' + str(row['coord']))\n",
    "            coords = str(row['coord'])\n",
    "            row['coord'] = int(coords[0] + coords[1].replace(coords[1], row_maping[coords[1]]))\n",
    "\n",
    "            print('NEW COORD\\t' + str(row['coord']))\n",
    "        \n",
    "    return pattern"
   ]
  },
  {
   "cell_type": "markdown",
   "metadata": {},
   "source": [
    "### Read all jsons in the directory"
   ]
  },
  {
   "cell_type": "code",
   "execution_count": null,
   "metadata": {},
   "outputs": [],
   "source": [
    "for file in os.listdir(\".\"):\n",
    "    if file.endswith(\".json\"):\n",
    "        with open(file, \"r\") as f:\n",
    "            pattern = json.load(f)\n",
    "            fixed_json = fix_coords(pattern)\n",
    "\n",
    "        with open(file, \"w\") as f:\n",
    "            print(\"Processing file {}\".format(file))\n",
    "            json.dump(fixed_json, f)"
   ]
  }
 ],
 "metadata": {
  "interpreter": {
   "hash": "473868caddda05648b194b9c3bc95e10d092d9cc650c59a1a979381be122a01e"
  },
  "kernelspec": {
   "display_name": "Python 3.9.7 ('pattern-gen')",
   "language": "python",
   "name": "python3"
  },
  "language_info": {
   "codemirror_mode": {
    "name": "ipython",
    "version": 3
   },
   "file_extension": ".py",
   "mimetype": "text/x-python",
   "name": "python",
   "nbconvert_exporter": "python",
   "pygments_lexer": "ipython3",
   "version": "3.9.7"
  },
  "orig_nbformat": 4
 },
 "nbformat": 4,
 "nbformat_minor": 2
}
